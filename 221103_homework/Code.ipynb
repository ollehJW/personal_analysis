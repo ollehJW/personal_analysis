{
 "cells": [
  {
   "cell_type": "markdown",
   "metadata": {},
   "source": [
    "## 1. 사용할 패키지 불러오기"
   ]
  },
  {
   "cell_type": "code",
   "execution_count": 3,
   "metadata": {},
   "outputs": [],
   "source": [
    "import pandas as pd\n",
    "import numpy as np\n",
    "import matplotlib.pyplot as plt"
   ]
  },
  {
   "cell_type": "markdown",
   "metadata": {},
   "source": [
    "## 2. 데이터 불러오기"
   ]
  },
  {
   "cell_type": "code",
   "execution_count": 4,
   "metadata": {},
   "outputs": [],
   "source": [
    "trade = pd.read_csv('2019-05-trade.csv')\n",
    "orderbook = pd.read_csv('2019-05-17-BTC-orderbook.csv')"
   ]
  },
  {
   "cell_type": "markdown",
   "metadata": {},
   "source": [
    "## 3. 문제 풀이"
   ]
  },
  {
   "cell_type": "markdown",
   "metadata": {},
   "source": [
    "### (1) Task 1"
   ]
  },
  {
   "cell_type": "markdown",
   "metadata": {},
   "source": [
    "#### - 누적 수량 계산하기"
   ]
  },
  {
   "cell_type": "code",
   "execution_count": 5,
   "metadata": {},
   "outputs": [
    {
     "name": "stderr",
     "output_type": "stream",
     "text": [
      "/tmp/ipykernel_32351/905381241.py:3: SettingWithCopyWarning: \n",
      "A value is trying to be set on a copy of a slice from a DataFrame\n",
      "\n",
      "See the caveats in the documentation: https://pandas.pydata.org/pandas-docs/stable/user_guide/indexing.html#returning-a-view-versus-a-copy\n",
      "  trade['real_quantity'][trade['side'] == 1] = -trade['real_quantity'][trade['side'] == 1]\n"
     ]
    }
   ],
   "source": [
    "## side = 1 인 경우 quantity에 -1을 곱해주자.\n",
    "trade['real_quantity'] = trade['quantity']\n",
    "trade['real_quantity'][trade['side'] == 1] = -trade['real_quantity'][trade['side'] == 1]"
   ]
  },
  {
   "cell_type": "code",
   "execution_count": 6,
   "metadata": {},
   "outputs": [],
   "source": [
    "## cumsum 함수를 통해 누적 quantity 계산\n",
    "trade['cumsum_quantity'] = np.cumsum(trade['real_quantity'])"
   ]
  },
  {
   "cell_type": "code",
   "execution_count": 7,
   "metadata": {},
   "outputs": [
    {
     "data": {
      "text/plain": [
       "1728400"
      ]
     },
     "execution_count": 7,
     "metadata": {},
     "output_type": "execute_result"
    }
   ],
   "source": [
    "## 데이터의 마지막 행의 누적 quantity는 0에 매우 가까운 값이므로 이 시점의 amount의 누적합을 계산하면 된다.\n",
    "trade['cumsum_amount'] = np.cumsum(trade['amount'])\n",
    "list(trade['cumsum_amount'])[-1]\n",
    "  "
   ]
  },
  {
   "cell_type": "markdown",
   "metadata": {},
   "source": [
    "약 1728400원의 이익을 본 것을 계산할 수 있다."
   ]
  },
  {
   "cell_type": "markdown",
   "metadata": {},
   "source": [
    "### (2) Task 2"
   ]
  },
  {
   "cell_type": "markdown",
   "metadata": {},
   "source": [
    "#### - Time 변수에서 '일' 단위 추출"
   ]
  },
  {
   "cell_type": "code",
   "execution_count": 8,
   "metadata": {},
   "outputs": [
    {
     "data": {
      "text/html": [
       "<div>\n",
       "<style scoped>\n",
       "    .dataframe tbody tr th:only-of-type {\n",
       "        vertical-align: middle;\n",
       "    }\n",
       "\n",
       "    .dataframe tbody tr th {\n",
       "        vertical-align: top;\n",
       "    }\n",
       "\n",
       "    .dataframe thead th {\n",
       "        text-align: right;\n",
       "    }\n",
       "</style>\n",
       "<table border=\"1\" class=\"dataframe\">\n",
       "  <thead>\n",
       "    <tr style=\"text-align: right;\">\n",
       "      <th></th>\n",
       "      <th>timestamp</th>\n",
       "      <th>quantity</th>\n",
       "      <th>price</th>\n",
       "      <th>fee</th>\n",
       "      <th>amount</th>\n",
       "      <th>side</th>\n",
       "      <th>real_quantity</th>\n",
       "      <th>cumsum_quantity</th>\n",
       "      <th>cumsum_amount</th>\n",
       "      <th>day</th>\n",
       "    </tr>\n",
       "  </thead>\n",
       "  <tbody>\n",
       "    <tr>\n",
       "      <th>0</th>\n",
       "      <td>2019-05-16 13:32:00</td>\n",
       "      <td>0.022435</td>\n",
       "      <td>9568000</td>\n",
       "      <td>107.32</td>\n",
       "      <td>-214764</td>\n",
       "      <td>0</td>\n",
       "      <td>0.022435</td>\n",
       "      <td>0.022435</td>\n",
       "      <td>-214764</td>\n",
       "      <td>16</td>\n",
       "    </tr>\n",
       "    <tr>\n",
       "      <th>1</th>\n",
       "      <td>2019-05-16 13:32:00</td>\n",
       "      <td>0.004065</td>\n",
       "      <td>9568000</td>\n",
       "      <td>19.44</td>\n",
       "      <td>-38916</td>\n",
       "      <td>0</td>\n",
       "      <td>0.004065</td>\n",
       "      <td>0.026500</td>\n",
       "      <td>-253680</td>\n",
       "      <td>16</td>\n",
       "    </tr>\n",
       "    <tr>\n",
       "      <th>2</th>\n",
       "      <td>2019-05-16 13:32:00</td>\n",
       "      <td>0.007700</td>\n",
       "      <td>9568000</td>\n",
       "      <td>36.83</td>\n",
       "      <td>-73711</td>\n",
       "      <td>0</td>\n",
       "      <td>0.007700</td>\n",
       "      <td>0.034200</td>\n",
       "      <td>-327391</td>\n",
       "      <td>16</td>\n",
       "    </tr>\n",
       "    <tr>\n",
       "      <th>3</th>\n",
       "      <td>2019-05-16 13:32:00</td>\n",
       "      <td>0.800815</td>\n",
       "      <td>9568000</td>\n",
       "      <td>3831.09</td>\n",
       "      <td>-7666025</td>\n",
       "      <td>0</td>\n",
       "      <td>0.800815</td>\n",
       "      <td>0.835015</td>\n",
       "      <td>-7993416</td>\n",
       "      <td>16</td>\n",
       "    </tr>\n",
       "    <tr>\n",
       "      <th>4</th>\n",
       "      <td>2019-05-16 13:32:00</td>\n",
       "      <td>0.052347</td>\n",
       "      <td>9568000</td>\n",
       "      <td>250.42</td>\n",
       "      <td>-501105</td>\n",
       "      <td>0</td>\n",
       "      <td>0.052347</td>\n",
       "      <td>0.887361</td>\n",
       "      <td>-8494521</td>\n",
       "      <td>16</td>\n",
       "    </tr>\n",
       "  </tbody>\n",
       "</table>\n",
       "</div>"
      ],
      "text/plain": [
       "            timestamp  quantity    price      fee   amount  side  \\\n",
       "0 2019-05-16 13:32:00  0.022435  9568000   107.32  -214764     0   \n",
       "1 2019-05-16 13:32:00  0.004065  9568000    19.44   -38916     0   \n",
       "2 2019-05-16 13:32:00  0.007700  9568000    36.83   -73711     0   \n",
       "3 2019-05-16 13:32:00  0.800815  9568000  3831.09 -7666025     0   \n",
       "4 2019-05-16 13:32:00  0.052347  9568000   250.42  -501105     0   \n",
       "\n",
       "   real_quantity  cumsum_quantity  cumsum_amount  day  \n",
       "0       0.022435         0.022435        -214764   16  \n",
       "1       0.004065         0.026500        -253680   16  \n",
       "2       0.007700         0.034200        -327391   16  \n",
       "3       0.800815         0.835015       -7993416   16  \n",
       "4       0.052347         0.887361       -8494521   16  "
      ]
     },
     "execution_count": 8,
     "metadata": {},
     "output_type": "execute_result"
    }
   ],
   "source": [
    "trade['timestamp'] = pd.to_datetime(trade['timestamp'])\n",
    "\n",
    "def extract_day(timestamp):\n",
    "    return timestamp.day\n",
    "\n",
    "trade['day'] = trade['timestamp'].map(extract_day)\n",
    "trade.head()"
   ]
  },
  {
   "cell_type": "markdown",
   "metadata": {},
   "source": [
    "#### - day와 side변수를 기준으로 Group화"
   ]
  },
  {
   "cell_type": "code",
   "execution_count": 9,
   "metadata": {},
   "outputs": [
    {
     "data": {
      "text/html": [
       "<div>\n",
       "<style scoped>\n",
       "    .dataframe tbody tr th:only-of-type {\n",
       "        vertical-align: middle;\n",
       "    }\n",
       "\n",
       "    .dataframe tbody tr th {\n",
       "        vertical-align: top;\n",
       "    }\n",
       "\n",
       "    .dataframe thead th {\n",
       "        text-align: right;\n",
       "    }\n",
       "</style>\n",
       "<table border=\"1\" class=\"dataframe\">\n",
       "  <thead>\n",
       "    <tr style=\"text-align: right;\">\n",
       "      <th></th>\n",
       "      <th>day</th>\n",
       "      <th>side</th>\n",
       "      <th>quantity</th>\n",
       "    </tr>\n",
       "  </thead>\n",
       "  <tbody>\n",
       "    <tr>\n",
       "      <th>0</th>\n",
       "      <td>16</td>\n",
       "      <td>0</td>\n",
       "      <td>156.684744</td>\n",
       "    </tr>\n",
       "    <tr>\n",
       "      <th>1</th>\n",
       "      <td>16</td>\n",
       "      <td>1</td>\n",
       "      <td>153.684671</td>\n",
       "    </tr>\n",
       "    <tr>\n",
       "      <th>2</th>\n",
       "      <td>17</td>\n",
       "      <td>0</td>\n",
       "      <td>296.048407</td>\n",
       "    </tr>\n",
       "    <tr>\n",
       "      <th>3</th>\n",
       "      <td>17</td>\n",
       "      <td>1</td>\n",
       "      <td>296.896681</td>\n",
       "    </tr>\n",
       "    <tr>\n",
       "      <th>4</th>\n",
       "      <td>18</td>\n",
       "      <td>0</td>\n",
       "      <td>197.969102</td>\n",
       "    </tr>\n",
       "  </tbody>\n",
       "</table>\n",
       "</div>"
      ],
      "text/plain": [
       "   day  side    quantity\n",
       "0   16     0  156.684744\n",
       "1   16     1  153.684671\n",
       "2   17     0  296.048407\n",
       "3   17     1  296.896681\n",
       "4   18     0  197.969102"
      ]
     },
     "execution_count": 9,
     "metadata": {},
     "output_type": "execute_result"
    }
   ],
   "source": [
    "trade_grouped = trade.groupby(['day', 'side'])['quantity'].sum().reset_index(drop = False)\n",
    "trade_grouped.head()"
   ]
  },
  {
   "cell_type": "code",
   "execution_count": 10,
   "metadata": {},
   "outputs": [
    {
     "data": {
      "image/png": "[encoded data removed]",
      "text/plain": [
       "<Figure size 640x480 with 1 Axes>"
      ]
     },
     "metadata": {},
     "output_type": "display_data"
    }
   ],
   "source": [
    "labels = range(16, 32)\n",
    "x = np.arange(len(labels))  # the label locations\n",
    "width = 0.35  # the width of the bars\n",
    "\n",
    "fig, ax = plt.subplots()\n",
    "rects1 = ax.bar(x - width/2, trade_grouped['quantity'][trade_grouped['side'] == 0], width, label='Buy')\n",
    "rects2 = ax.bar(x + width/2, trade_grouped['quantity'][trade_grouped['side'] == 1], width, label='Sell')\n",
    "\n",
    "# Add some text for labels, title and custom x-axis tick labels, etc.\n",
    "ax.set_ylabel('Transaction')\n",
    "ax.set_title('Daily transaction count')\n",
    "ax.set_xticks(x, labels)\n",
    "ax.legend()\n",
    "\n",
    "fig.tight_layout()\n",
    "\n",
    "plt.show()"
   ]
  },
  {
   "cell_type": "markdown",
   "metadata": {},
   "source": [
    "### (3) Task 3"
   ]
  },
  {
   "cell_type": "markdown",
   "metadata": {},
   "source": [
    "#### - Orderbook의 Timestamp를 초 단위로 반올림 하기"
   ]
  },
  {
   "cell_type": "code",
   "execution_count": 11,
   "metadata": {},
   "outputs": [
    {
     "data": {
      "text/plain": [
       "0         2019-05-17 00:00:00\n",
       "1         2019-05-17 00:00:00\n",
       "2         2019-05-17 00:00:00\n",
       "3         2019-05-17 00:00:00\n",
       "4         2019-05-17 00:00:00\n",
       "                  ...        \n",
       "2591515   2019-05-17 23:59:59\n",
       "2591516   2019-05-17 23:59:59\n",
       "2591517   2019-05-17 23:59:59\n",
       "2591518   2019-05-17 23:59:59\n",
       "2591519   2019-05-17 23:59:59\n",
       "Name: timestamp, Length: 2591520, dtype: datetime64[ns]"
      ]
     },
     "execution_count": 11,
     "metadata": {},
     "output_type": "execute_result"
    }
   ],
   "source": [
    "orderbook['timestamp'] = pd.to_datetime(orderbook['timestamp'])\n",
    "\n",
    "def round_timestamp(timestamp):\n",
    "    return timestamp.replace(microsecond=0) \n",
    "\n",
    "orderbook['timestamp'] = orderbook['timestamp'].map(round_timestamp)\n",
    "orderbook['timestamp']"
   ]
  },
  {
   "cell_type": "markdown",
   "metadata": {},
   "source": [
    "#### - timestamp와 type\t변수를 기준으로 Group화 (Max Price, Average Price, Average quantity)"
   ]
  },
  {
   "cell_type": "code",
   "execution_count": 12,
   "metadata": {},
   "outputs": [],
   "source": [
    "max_price = orderbook.groupby(['timestamp', 'type'])['price'].max().reset_index(drop = False)\n",
    "average_price = orderbook.groupby(['timestamp', 'type'])['price'].mean().reset_index(drop = False)\n",
    "average_quantity = orderbook.groupby(['timestamp', 'type'])['quantity'].mean().reset_index(drop = False)"
   ]
  },
  {
   "cell_type": "markdown",
   "metadata": {},
   "source": [
    "#### - ask와 bid로 분할"
   ]
  },
  {
   "cell_type": "code",
   "execution_count": 13,
   "metadata": {},
   "outputs": [],
   "source": [
    "max_price_ask = max_price.loc[max_price['type'] == 1, :].reset_index(drop = True)\n",
    "max_price_bid = max_price.loc[max_price['type'] == 0, :].reset_index(drop = True)\n",
    "\n",
    "average_price_ask = average_price.loc[average_price['type'] == 1, :].reset_index(drop = True)\n",
    "average_price_bid = average_price.loc[average_price['type'] == 0, :].reset_index(drop = True)\n",
    "\n",
    "average_quantity_ask = average_quantity.loc[average_quantity['type'] == 1, :].reset_index(drop = True)\n",
    "average_quantity_bid = average_quantity.loc[average_quantity['type'] == 0, :].reset_index(drop = True)"
   ]
  },
  {
   "cell_type": "markdown",
   "metadata": {},
   "source": [
    "#### - 위 정보를 하나의 데이터프레임으로 생성"
   ]
  },
  {
   "cell_type": "code",
   "execution_count": 14,
   "metadata": {},
   "outputs": [
    {
     "data": {
      "text/html": [
       "<div>\n",
       "<style scoped>\n",
       "    .dataframe tbody tr th:only-of-type {\n",
       "        vertical-align: middle;\n",
       "    }\n",
       "\n",
       "    .dataframe tbody tr th {\n",
       "        vertical-align: top;\n",
       "    }\n",
       "\n",
       "    .dataframe thead th {\n",
       "        text-align: right;\n",
       "    }\n",
       "</style>\n",
       "<table border=\"1\" class=\"dataframe\">\n",
       "  <thead>\n",
       "    <tr style=\"text-align: right;\">\n",
       "      <th></th>\n",
       "      <th>timestamp</th>\n",
       "      <th>max_price_ask</th>\n",
       "      <th>max_price_bid</th>\n",
       "      <th>average_price_ask</th>\n",
       "      <th>average_price_bid</th>\n",
       "      <th>average_quantity_ask</th>\n",
       "      <th>average_quantity_bid</th>\n",
       "    </tr>\n",
       "  </thead>\n",
       "  <tbody>\n",
       "    <tr>\n",
       "      <th>0</th>\n",
       "      <td>2019-05-17 00:00:00</td>\n",
       "      <td>9491000.0</td>\n",
       "      <td>9449000.0</td>\n",
       "      <td>9.471333e+06</td>\n",
       "      <td>9438800.0</td>\n",
       "      <td>2.248895</td>\n",
       "      <td>3.144560</td>\n",
       "    </tr>\n",
       "    <tr>\n",
       "      <th>1</th>\n",
       "      <td>2019-05-17 00:00:01</td>\n",
       "      <td>9491000.0</td>\n",
       "      <td>9449000.0</td>\n",
       "      <td>9.471467e+06</td>\n",
       "      <td>9438800.0</td>\n",
       "      <td>2.248229</td>\n",
       "      <td>3.142442</td>\n",
       "    </tr>\n",
       "    <tr>\n",
       "      <th>2</th>\n",
       "      <td>2019-05-17 00:00:02</td>\n",
       "      <td>9499000.0</td>\n",
       "      <td>9449000.0</td>\n",
       "      <td>9.474933e+06</td>\n",
       "      <td>9438800.0</td>\n",
       "      <td>2.287988</td>\n",
       "      <td>3.109909</td>\n",
       "    </tr>\n",
       "    <tr>\n",
       "      <th>3</th>\n",
       "      <td>2019-05-17 00:00:03</td>\n",
       "      <td>9497000.0</td>\n",
       "      <td>9449000.0</td>\n",
       "      <td>9.473867e+06</td>\n",
       "      <td>9438800.0</td>\n",
       "      <td>2.234896</td>\n",
       "      <td>3.142442</td>\n",
       "    </tr>\n",
       "    <tr>\n",
       "      <th>4</th>\n",
       "      <td>2019-05-17 00:00:04</td>\n",
       "      <td>9497000.0</td>\n",
       "      <td>9449000.0</td>\n",
       "      <td>9.473867e+06</td>\n",
       "      <td>9438800.0</td>\n",
       "      <td>2.234896</td>\n",
       "      <td>3.142442</td>\n",
       "    </tr>\n",
       "  </tbody>\n",
       "</table>\n",
       "</div>"
      ],
      "text/plain": [
       "            timestamp  max_price_ask  max_price_bid  average_price_ask  \\\n",
       "0 2019-05-17 00:00:00      9491000.0      9449000.0       9.471333e+06   \n",
       "1 2019-05-17 00:00:01      9491000.0      9449000.0       9.471467e+06   \n",
       "2 2019-05-17 00:00:02      9499000.0      9449000.0       9.474933e+06   \n",
       "3 2019-05-17 00:00:03      9497000.0      9449000.0       9.473867e+06   \n",
       "4 2019-05-17 00:00:04      9497000.0      9449000.0       9.473867e+06   \n",
       "\n",
       "   average_price_bid  average_quantity_ask  average_quantity_bid  \n",
       "0          9438800.0              2.248895              3.144560  \n",
       "1          9438800.0              2.248229              3.142442  \n",
       "2          9438800.0              2.287988              3.109909  \n",
       "3          9438800.0              2.234896              3.142442  \n",
       "4          9438800.0              2.234896              3.142442  "
      ]
     },
     "execution_count": 14,
     "metadata": {},
     "output_type": "execute_result"
    }
   ],
   "source": [
    "final = pd.DataFrame({'timestamp': max_price_ask['timestamp'], 'max_price_ask': max_price_ask['price'], 'max_price_bid': max_price_bid['price'], 'average_price_ask': average_price_ask['price'], 'average_price_bid': average_price_bid['price'], 'average_quantity_ask': average_quantity_ask['quantity'], 'average_quantity_bid': average_quantity_bid['quantity']})\n",
    "final.head()"
   ]
  },
  {
   "cell_type": "markdown",
   "metadata": {},
   "source": [
    "#### - MidPrice 계산"
   ]
  },
  {
   "cell_type": "code",
   "execution_count": 15,
   "metadata": {},
   "outputs": [],
   "source": [
    "final['MidPrice'] = (final['max_price_ask'] + final['max_price_bid']) / 2"
   ]
  },
  {
   "cell_type": "markdown",
   "metadata": {},
   "source": [
    "#### - Bfeature 계산"
   ]
  },
  {
   "cell_type": "code",
   "execution_count": 18,
   "metadata": {},
   "outputs": [],
   "source": [
    "final['book_price'] = (final['average_quantity_ask'] * final['average_price_bid']) / final['average_quantity_bid']\n",
    "final['Bfeature'] = final['book_price'] - final['MidPrice']"
   ]
  },
  {
   "cell_type": "markdown",
   "metadata": {},
   "source": [
    "#### - Alpha 계산"
   ]
  },
  {
   "cell_type": "code",
   "execution_count": 19,
   "metadata": {},
   "outputs": [],
   "source": [
    "final['Alpha'] = final['Bfeature'] * final['MidPrice']"
   ]
  },
  {
   "cell_type": "code",
   "execution_count": 20,
   "metadata": {},
   "outputs": [
    {
     "data": {
      "text/html": [
       "<div>\n",
       "<style scoped>\n",
       "    .dataframe tbody tr th:only-of-type {\n",
       "        vertical-align: middle;\n",
       "    }\n",
       "\n",
       "    .dataframe tbody tr th {\n",
       "        vertical-align: top;\n",
       "    }\n",
       "\n",
       "    .dataframe thead th {\n",
       "        text-align: right;\n",
       "    }\n",
       "</style>\n",
       "<table border=\"1\" class=\"dataframe\">\n",
       "  <thead>\n",
       "    <tr style=\"text-align: right;\">\n",
       "      <th></th>\n",
       "      <th>timestamp</th>\n",
       "      <th>max_price_ask</th>\n",
       "      <th>max_price_bid</th>\n",
       "      <th>average_price_ask</th>\n",
       "      <th>average_price_bid</th>\n",
       "      <th>average_quantity_ask</th>\n",
       "      <th>average_quantity_bid</th>\n",
       "      <th>MidPrice</th>\n",
       "      <th>book_price</th>\n",
       "      <th>Bfeature</th>\n",
       "      <th>Alpha</th>\n",
       "    </tr>\n",
       "  </thead>\n",
       "  <tbody>\n",
       "    <tr>\n",
       "      <th>0</th>\n",
       "      <td>2019-05-17 00:00:00</td>\n",
       "      <td>9491000.0</td>\n",
       "      <td>9449000.0</td>\n",
       "      <td>9.471333e+06</td>\n",
       "      <td>9438800.0</td>\n",
       "      <td>2.248895</td>\n",
       "      <td>3.144560</td>\n",
       "      <td>9470000.0</td>\n",
       "      <td>6.750348e+06</td>\n",
       "      <td>1.047776e+06</td>\n",
       "      <td>9.922441e+12</td>\n",
       "    </tr>\n",
       "    <tr>\n",
       "      <th>1</th>\n",
       "      <td>2019-05-17 00:00:01</td>\n",
       "      <td>9491000.0</td>\n",
       "      <td>9449000.0</td>\n",
       "      <td>9.471467e+06</td>\n",
       "      <td>9438800.0</td>\n",
       "      <td>2.248229</td>\n",
       "      <td>3.142442</td>\n",
       "      <td>9470000.0</td>\n",
       "      <td>6.752896e+06</td>\n",
       "      <td>1.047776e+06</td>\n",
       "      <td>9.922441e+12</td>\n",
       "    </tr>\n",
       "    <tr>\n",
       "      <th>2</th>\n",
       "      <td>2019-05-17 00:00:02</td>\n",
       "      <td>9499000.0</td>\n",
       "      <td>9449000.0</td>\n",
       "      <td>9.474933e+06</td>\n",
       "      <td>9438800.0</td>\n",
       "      <td>2.287988</td>\n",
       "      <td>3.109909</td>\n",
       "      <td>9474000.0</td>\n",
       "      <td>6.944211e+06</td>\n",
       "      <td>1.043776e+06</td>\n",
       "      <td>9.888736e+12</td>\n",
       "    </tr>\n",
       "    <tr>\n",
       "      <th>3</th>\n",
       "      <td>2019-05-17 00:00:03</td>\n",
       "      <td>9497000.0</td>\n",
       "      <td>9449000.0</td>\n",
       "      <td>9.473867e+06</td>\n",
       "      <td>9438800.0</td>\n",
       "      <td>2.234896</td>\n",
       "      <td>3.142442</td>\n",
       "      <td>9473000.0</td>\n",
       "      <td>6.712848e+06</td>\n",
       "      <td>1.044776e+06</td>\n",
       "      <td>9.897166e+12</td>\n",
       "    </tr>\n",
       "    <tr>\n",
       "      <th>4</th>\n",
       "      <td>2019-05-17 00:00:04</td>\n",
       "      <td>9497000.0</td>\n",
       "      <td>9449000.0</td>\n",
       "      <td>9.473867e+06</td>\n",
       "      <td>9438800.0</td>\n",
       "      <td>2.234896</td>\n",
       "      <td>3.142442</td>\n",
       "      <td>9473000.0</td>\n",
       "      <td>6.712848e+06</td>\n",
       "      <td>1.044776e+06</td>\n",
       "      <td>9.897166e+12</td>\n",
       "    </tr>\n",
       "  </tbody>\n",
       "</table>\n",
       "</div>"
      ],
      "text/plain": [
       "            timestamp  max_price_ask  max_price_bid  average_price_ask  \\\n",
       "0 2019-05-17 00:00:00      9491000.0      9449000.0       9.471333e+06   \n",
       "1 2019-05-17 00:00:01      9491000.0      9449000.0       9.471467e+06   \n",
       "2 2019-05-17 00:00:02      9499000.0      9449000.0       9.474933e+06   \n",
       "3 2019-05-17 00:00:03      9497000.0      9449000.0       9.473867e+06   \n",
       "4 2019-05-17 00:00:04      9497000.0      9449000.0       9.473867e+06   \n",
       "\n",
       "   average_price_bid  average_quantity_ask  average_quantity_bid   MidPrice  \\\n",
       "0          9438800.0              2.248895              3.144560  9470000.0   \n",
       "1          9438800.0              2.248229              3.142442  9470000.0   \n",
       "2          9438800.0              2.287988              3.109909  9474000.0   \n",
       "3          9438800.0              2.234896              3.142442  9473000.0   \n",
       "4          9438800.0              2.234896              3.142442  9473000.0   \n",
       "\n",
       "     book_price      Bfeature         Alpha  \n",
       "0  6.750348e+06  1.047776e+06  9.922441e+12  \n",
       "1  6.752896e+06  1.047776e+06  9.922441e+12  \n",
       "2  6.944211e+06  1.043776e+06  9.888736e+12  \n",
       "3  6.712848e+06  1.044776e+06  9.897166e+12  \n",
       "4  6.712848e+06  1.044776e+06  9.897166e+12  "
      ]
     },
     "execution_count": 20,
     "metadata": {},
     "output_type": "execute_result"
    }
   ],
   "source": [
    "final.head()"
   ]
  },
  {
   "cell_type": "markdown",
   "metadata": {},
   "source": [
    "#### - 계산한 정보만 남기기"
   ]
  },
  {
   "cell_type": "code",
   "execution_count": 21,
   "metadata": {},
   "outputs": [
    {
     "data": {
      "text/html": [
       "<div>\n",
       "<style scoped>\n",
       "    .dataframe tbody tr th:only-of-type {\n",
       "        vertical-align: middle;\n",
       "    }\n",
       "\n",
       "    .dataframe tbody tr th {\n",
       "        vertical-align: top;\n",
       "    }\n",
       "\n",
       "    .dataframe thead th {\n",
       "        text-align: right;\n",
       "    }\n",
       "</style>\n",
       "<table border=\"1\" class=\"dataframe\">\n",
       "  <thead>\n",
       "    <tr style=\"text-align: right;\">\n",
       "      <th></th>\n",
       "      <th>timestamp</th>\n",
       "      <th>MidPrice</th>\n",
       "      <th>Bfeature</th>\n",
       "      <th>Alpha</th>\n",
       "    </tr>\n",
       "  </thead>\n",
       "  <tbody>\n",
       "    <tr>\n",
       "      <th>0</th>\n",
       "      <td>2019-05-17 00:00:00</td>\n",
       "      <td>9470000.0</td>\n",
       "      <td>1.047776e+06</td>\n",
       "      <td>9.922441e+12</td>\n",
       "    </tr>\n",
       "    <tr>\n",
       "      <th>1</th>\n",
       "      <td>2019-05-17 00:00:01</td>\n",
       "      <td>9470000.0</td>\n",
       "      <td>1.047776e+06</td>\n",
       "      <td>9.922441e+12</td>\n",
       "    </tr>\n",
       "    <tr>\n",
       "      <th>2</th>\n",
       "      <td>2019-05-17 00:00:02</td>\n",
       "      <td>9474000.0</td>\n",
       "      <td>1.043776e+06</td>\n",
       "      <td>9.888736e+12</td>\n",
       "    </tr>\n",
       "    <tr>\n",
       "      <th>3</th>\n",
       "      <td>2019-05-17 00:00:03</td>\n",
       "      <td>9473000.0</td>\n",
       "      <td>1.044776e+06</td>\n",
       "      <td>9.897166e+12</td>\n",
       "    </tr>\n",
       "    <tr>\n",
       "      <th>4</th>\n",
       "      <td>2019-05-17 00:00:04</td>\n",
       "      <td>9473000.0</td>\n",
       "      <td>1.044776e+06</td>\n",
       "      <td>9.897166e+12</td>\n",
       "    </tr>\n",
       "  </tbody>\n",
       "</table>\n",
       "</div>"
      ],
      "text/plain": [
       "            timestamp   MidPrice      Bfeature         Alpha\n",
       "0 2019-05-17 00:00:00  9470000.0  1.047776e+06  9.922441e+12\n",
       "1 2019-05-17 00:00:01  9470000.0  1.047776e+06  9.922441e+12\n",
       "2 2019-05-17 00:00:02  9474000.0  1.043776e+06  9.888736e+12\n",
       "3 2019-05-17 00:00:03  9473000.0  1.044776e+06  9.897166e+12\n",
       "4 2019-05-17 00:00:04  9473000.0  1.044776e+06  9.897166e+12"
      ]
     },
     "execution_count": 21,
     "metadata": {},
     "output_type": "execute_result"
    }
   ],
   "source": [
    "final = final.loc[:, ['timestamp', 'MidPrice', 'Bfeature', 'Alpha']]\n",
    "final.head()"
   ]
  },
  {
   "cell_type": "markdown",
   "metadata": {},
   "source": [
    "#### - trade 데이터프레임에 합치기"
   ]
  },
  {
   "cell_type": "code",
   "execution_count": 75,
   "metadata": {},
   "outputs": [
    {
     "data": {
      "text/html": [
       "<div>\n",
       "<style scoped>\n",
       "    .dataframe tbody tr th:only-of-type {\n",
       "        vertical-align: middle;\n",
       "    }\n",
       "\n",
       "    .dataframe tbody tr th {\n",
       "        vertical-align: top;\n",
       "    }\n",
       "\n",
       "    .dataframe thead th {\n",
       "        text-align: right;\n",
       "    }\n",
       "</style>\n",
       "<table border=\"1\" class=\"dataframe\">\n",
       "  <thead>\n",
       "    <tr style=\"text-align: right;\">\n",
       "      <th></th>\n",
       "      <th>timestamp</th>\n",
       "      <th>quantity</th>\n",
       "      <th>price</th>\n",
       "      <th>fee</th>\n",
       "      <th>amount</th>\n",
       "      <th>side</th>\n",
       "      <th>MidPrice</th>\n",
       "      <th>Bfeature</th>\n",
       "      <th>Alpha</th>\n",
       "    </tr>\n",
       "  </thead>\n",
       "  <tbody>\n",
       "    <tr>\n",
       "      <th>0</th>\n",
       "      <td>2019-05-17</td>\n",
       "      <td>0.057701</td>\n",
       "      <td>9449000</td>\n",
       "      <td>272.60</td>\n",
       "      <td>544941</td>\n",
       "      <td>1</td>\n",
       "      <td>9470000.0</td>\n",
       "      <td>-2.719652e+06</td>\n",
       "      <td>8.968090e+13</td>\n",
       "    </tr>\n",
       "    <tr>\n",
       "      <th>1</th>\n",
       "      <td>2019-05-17</td>\n",
       "      <td>0.005000</td>\n",
       "      <td>9449000</td>\n",
       "      <td>23.62</td>\n",
       "      <td>47221</td>\n",
       "      <td>1</td>\n",
       "      <td>9470000.0</td>\n",
       "      <td>-2.719652e+06</td>\n",
       "      <td>8.968090e+13</td>\n",
       "    </tr>\n",
       "    <tr>\n",
       "      <th>2</th>\n",
       "      <td>2019-05-17</td>\n",
       "      <td>0.127708</td>\n",
       "      <td>9449000</td>\n",
       "      <td>603.35</td>\n",
       "      <td>1206112</td>\n",
       "      <td>1</td>\n",
       "      <td>9470000.0</td>\n",
       "      <td>-2.719652e+06</td>\n",
       "      <td>8.968090e+13</td>\n",
       "    </tr>\n",
       "    <tr>\n",
       "      <th>3</th>\n",
       "      <td>2019-05-17</td>\n",
       "      <td>1.057672</td>\n",
       "      <td>9449000</td>\n",
       "      <td>4996.97</td>\n",
       "      <td>9988947</td>\n",
       "      <td>1</td>\n",
       "      <td>9470000.0</td>\n",
       "      <td>-2.719652e+06</td>\n",
       "      <td>8.968090e+13</td>\n",
       "    </tr>\n",
       "    <tr>\n",
       "      <th>4</th>\n",
       "      <td>2019-05-17</td>\n",
       "      <td>0.068212</td>\n",
       "      <td>9449000</td>\n",
       "      <td>322.26</td>\n",
       "      <td>644212</td>\n",
       "      <td>1</td>\n",
       "      <td>9470000.0</td>\n",
       "      <td>-2.719652e+06</td>\n",
       "      <td>8.968090e+13</td>\n",
       "    </tr>\n",
       "  </tbody>\n",
       "</table>\n",
       "</div>"
      ],
      "text/plain": [
       "   timestamp  quantity    price      fee   amount  side   MidPrice  \\\n",
       "0 2019-05-17  0.057701  9449000   272.60   544941     1  9470000.0   \n",
       "1 2019-05-17  0.005000  9449000    23.62    47221     1  9470000.0   \n",
       "2 2019-05-17  0.127708  9449000   603.35  1206112     1  9470000.0   \n",
       "3 2019-05-17  1.057672  9449000  4996.97  9988947     1  9470000.0   \n",
       "4 2019-05-17  0.068212  9449000   322.26   644212     1  9470000.0   \n",
       "\n",
       "       Bfeature         Alpha  \n",
       "0 -2.719652e+06  8.968090e+13  \n",
       "1 -2.719652e+06  8.968090e+13  \n",
       "2 -2.719652e+06  8.968090e+13  \n",
       "3 -2.719652e+06  8.968090e+13  \n",
       "4 -2.719652e+06  8.968090e+13  "
      ]
     },
     "execution_count": 75,
     "metadata": {},
     "output_type": "execute_result"
    }
   ],
   "source": [
    "trade = pd.read_csv('2019-05-trade.csv')\n",
    "trade['timestamp'] = pd.to_datetime(trade['timestamp'])\n",
    "\n",
    "new_trade = pd.merge(trade, final)\n",
    "new_trade.head()"
   ]
  },
  {
   "cell_type": "markdown",
   "metadata": {},
   "source": [
    "#### - 필요한 열만 남기기"
   ]
  },
  {
   "cell_type": "code",
   "execution_count": 78,
   "metadata": {},
   "outputs": [
    {
     "data": {
      "text/html": [
       "<div>\n",
       "<style scoped>\n",
       "    .dataframe tbody tr th:only-of-type {\n",
       "        vertical-align: middle;\n",
       "    }\n",
       "\n",
       "    .dataframe tbody tr th {\n",
       "        vertical-align: top;\n",
       "    }\n",
       "\n",
       "    .dataframe thead th {\n",
       "        text-align: right;\n",
       "    }\n",
       "</style>\n",
       "<table border=\"1\" class=\"dataframe\">\n",
       "  <thead>\n",
       "    <tr style=\"text-align: right;\">\n",
       "      <th></th>\n",
       "      <th>timestamp</th>\n",
       "      <th>quantity</th>\n",
       "      <th>price</th>\n",
       "      <th>MidPrice</th>\n",
       "      <th>Bfeature</th>\n",
       "      <th>Alpha</th>\n",
       "      <th>side</th>\n",
       "    </tr>\n",
       "  </thead>\n",
       "  <tbody>\n",
       "    <tr>\n",
       "      <th>0</th>\n",
       "      <td>2019-05-17</td>\n",
       "      <td>0.057701</td>\n",
       "      <td>9449000</td>\n",
       "      <td>9470000.0</td>\n",
       "      <td>-2.719652e+06</td>\n",
       "      <td>8.968090e+13</td>\n",
       "      <td>1</td>\n",
       "    </tr>\n",
       "    <tr>\n",
       "      <th>1</th>\n",
       "      <td>2019-05-17</td>\n",
       "      <td>0.005000</td>\n",
       "      <td>9449000</td>\n",
       "      <td>9470000.0</td>\n",
       "      <td>-2.719652e+06</td>\n",
       "      <td>8.968090e+13</td>\n",
       "      <td>1</td>\n",
       "    </tr>\n",
       "    <tr>\n",
       "      <th>2</th>\n",
       "      <td>2019-05-17</td>\n",
       "      <td>0.127708</td>\n",
       "      <td>9449000</td>\n",
       "      <td>9470000.0</td>\n",
       "      <td>-2.719652e+06</td>\n",
       "      <td>8.968090e+13</td>\n",
       "      <td>1</td>\n",
       "    </tr>\n",
       "    <tr>\n",
       "      <th>3</th>\n",
       "      <td>2019-05-17</td>\n",
       "      <td>1.057672</td>\n",
       "      <td>9449000</td>\n",
       "      <td>9470000.0</td>\n",
       "      <td>-2.719652e+06</td>\n",
       "      <td>8.968090e+13</td>\n",
       "      <td>1</td>\n",
       "    </tr>\n",
       "    <tr>\n",
       "      <th>4</th>\n",
       "      <td>2019-05-17</td>\n",
       "      <td>0.068212</td>\n",
       "      <td>9449000</td>\n",
       "      <td>9470000.0</td>\n",
       "      <td>-2.719652e+06</td>\n",
       "      <td>8.968090e+13</td>\n",
       "      <td>1</td>\n",
       "    </tr>\n",
       "  </tbody>\n",
       "</table>\n",
       "</div>"
      ],
      "text/plain": [
       "   timestamp  quantity    price   MidPrice      Bfeature         Alpha  side\n",
       "0 2019-05-17  0.057701  9449000  9470000.0 -2.719652e+06  8.968090e+13     1\n",
       "1 2019-05-17  0.005000  9449000  9470000.0 -2.719652e+06  8.968090e+13     1\n",
       "2 2019-05-17  0.127708  9449000  9470000.0 -2.719652e+06  8.968090e+13     1\n",
       "3 2019-05-17  1.057672  9449000  9470000.0 -2.719652e+06  8.968090e+13     1\n",
       "4 2019-05-17  0.068212  9449000  9470000.0 -2.719652e+06  8.968090e+13     1"
      ]
     },
     "execution_count": 78,
     "metadata": {},
     "output_type": "execute_result"
    }
   ],
   "source": [
    "new_trade = new_trade.loc[:, ['timestamp', 'quantity', 'price', 'MidPrice', 'Bfeature', 'Alpha', 'side']]\n",
    "new_trade.head()"
   ]
  },
  {
   "cell_type": "markdown",
   "metadata": {},
   "source": [
    "#### - new_csv 로 저장"
   ]
  },
  {
   "cell_type": "code",
   "execution_count": 88,
   "metadata": {},
   "outputs": [],
   "source": [
    "new_trade.to_csv('new_trade.csv', index = False)"
   ]
  }
 ],
 "metadata": {
  "interpreter": {
   "hash": "4737874eba92297991c3fb6eec14ba36dab00ee1f4459fe2760d59ec4693efc4"
  },
  "kernelspec": {
   "display_name": "Python 3.8.13 ('ml_env')",
   "language": "python",
   "name": "python3"
  },
  "language_info": {
   "codemirror_mode": {
    "name": "ipython",
    "version": 3
   },
   "file_extension": ".py",
   "mimetype": "text/x-python",
   "name": "python",
   "nbconvert_exporter": "python",
   "pygments_lexer": "ipython3",
   "version": "3.8.13"
  },
  "orig_nbformat": 4
 },
 "nbformat": 4,
 "nbformat_minor": 2
}
